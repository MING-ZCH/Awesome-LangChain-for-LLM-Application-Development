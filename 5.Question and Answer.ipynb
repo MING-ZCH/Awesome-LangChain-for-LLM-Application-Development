{
 "cells": [
  {
   "cell_type": "markdown",
   "id": "52824b89-532a-4e54-87e9-1410813cd39e",
   "metadata": {},
   "source": [
    "# 第四章 基于LangChain的文档问答\n",
    "本章内容主要利用langchain构建向量数据库，可以在文档上方或关于文档回答问题，因此，给定从PDF文件、网页或某些公司的内部文档收集中提取的文本，使用llm回答有关这些文档内容的问题"
   ]
  },
  {
   "cell_type": "markdown",
   "id": "4aac484b",
   "metadata": {
    "height": 30
   },
   "source": [
    "## 环境配置\n",
    "\n",
    "安装langchain，设置chatGPT的OPENAI_API_KEY\n",
    "* 安装langchain\n",
    "```\n",
    "pip install langchain\n",
    "```\n",
    "* 安装docarray\n",
    "```\n",
    "pip install docarray\n",
    "```\n",
    "* 设置API-KEY环境变量\n",
    "```\n",
    "export OPENAI_API_KEY='api-key'\n",
    "\n",
    "```"
   ]
  },
  {
   "cell_type": "code",
   "execution_count": 1,
   "id": "b7ed03ed-1322-49e3-b2a2-33e94fb592ef",
   "metadata": {
    "height": 81,
    "tags": []
   },
   "outputs": [],
   "source": [
    "import os\n",
    "import sys\n",
    "sys.path.append(\"D:\\\\software\\\\conda\\\\envs\\\\torch2\\\\Lib\\\\site-packages\")\n",
    "\n",
    "from dotenv import load_dotenv, find_dotenv\n",
    "_ = load_dotenv(find_dotenv()) #读取环境变量"
   ]
  },
  {
   "cell_type": "code",
   "execution_count": 11,
   "id": "37830a40",
   "metadata": {},
   "outputs": [
    {
     "name": "stdout",
     "output_type": "stream",
     "text": [
      "Looking in indexes: https://pypi.tuna.tsinghua.edu.cn/simple\n",
      "Requirement already satisfied: python-dotenv in d:\\software\\conda\\envs\\torch2\\lib\\site-packages (1.0.0)\n",
      "Collecting docarray\n",
      "  Downloading https://pypi.tuna.tsinghua.edu.cn/packages/15/1e/a185f9514e8f9d68090b17bc7ec2a9d858c1e850dfef68845fb47e77fc33/docarray-0.33.0-py3-none-any.whl (220 kB)\n",
      "     ---------------------------------------- 0.0/220.8 kB ? eta -:--:--\n",
      "     - -------------------------------------- 10.2/220.8 kB ? eta -:--:--\n",
      "     - -------------------------------------- 10.2/220.8 kB ? eta -:--:--\n",
      "     - -------------------------------------- 10.2/220.8 kB ? eta -:--:--\n",
      "     - -------------------------------------- 10.2/220.8 kB ? eta -:--:--\n",
      "     - -------------------------------------- 10.2/220.8 kB ? eta -:--:--\n",
      "     - -------------------------------------- 10.2/220.8 kB ? eta -:--:--\n",
      "     - -------------------------------------- 10.2/220.8 kB ? eta -:--:--\n",
      "     - -------------------------------------- 10.2/220.8 kB ? eta -:--:--\n",
      "     ------------ ------------------------ 71.7/220.8 kB 151.3 kB/s eta 0:00:01\n",
      "     ------------------ ----------------- 112.6/220.8 kB 218.8 kB/s eta 0:00:01\n",
      "     ------------------ ----------------- 112.6/220.8 kB 218.8 kB/s eta 0:00:01\n",
      "     ------------------ ----------------- 112.6/220.8 kB 218.8 kB/s eta 0:00:01\n",
      "     ------------------ ----------------- 112.6/220.8 kB 218.8 kB/s eta 0:00:01\n",
      "     ------------------------- ---------- 153.6/220.8 kB 218.5 kB/s eta 0:00:01\n",
      "     ------------------------- ---------- 153.6/220.8 kB 218.5 kB/s eta 0:00:01\n",
      "     ------------------------- ---------- 153.6/220.8 kB 218.5 kB/s eta 0:00:01\n",
      "     ------------------------- ---------- 153.6/220.8 kB 218.5 kB/s eta 0:00:01\n",
      "     ------------------------- ---------- 153.6/220.8 kB 218.5 kB/s eta 0:00:01\n",
      "     ------------------------- ---------- 153.6/220.8 kB 218.5 kB/s eta 0:00:01\n",
      "     ------------------------- ---------- 153.6/220.8 kB 218.5 kB/s eta 0:00:01\n",
      "     ------------------------- ---------- 153.6/220.8 kB 218.5 kB/s eta 0:00:01\n",
      "     ------------------------- ---------- 153.6/220.8 kB 218.5 kB/s eta 0:00:01\n",
      "     ------------------------- ---------- 153.6/220.8 kB 218.5 kB/s eta 0:00:01\n",
      "     ------------------------- ---------- 153.6/220.8 kB 218.5 kB/s eta 0:00:01\n",
      "     ------------------------- ---------- 153.6/220.8 kB 218.5 kB/s eta 0:00:01\n",
      "     ------------------------- ---------- 153.6/220.8 kB 218.5 kB/s eta 0:00:01\n",
      "     ------------------------- ---------- 153.6/220.8 kB 218.5 kB/s eta 0:00:01\n",
      "     ------------------------------------ 220.8/220.8 kB 160.5 kB/s eta 0:00:00\n",
      "Collecting orjson>=3.8.2\n",
      "  Downloading https://pypi.tuna.tsinghua.edu.cn/packages/df/8c/1184f03df5233823f88a1d3c5c1878f985a9958d06512d875fc9f8f5340b/orjson-3.9.0-cp310-none-win_amd64.whl (191 kB)\n",
      "     ---------------------------------------- 0.0/191.7 kB ? eta -:--:--\n",
      "     -- ------------------------------------- 10.2/191.7 kB ? eta -:--:--\n",
      "     -- ------------------------------------- 10.2/191.7 kB ? eta -:--:--\n",
      "     -- ------------------------------------- 10.2/191.7 kB ? eta -:--:--\n",
      "     -- ------------------------------------- 10.2/191.7 kB ? eta -:--:--\n",
      "     -- ------------------------------------- 10.2/191.7 kB ? eta -:--:--\n",
      "     ------- ----------------------------- 41.0/191.7 kB 131.3 kB/s eta 0:00:02\n",
      "     ------------- ----------------------- 71.7/191.7 kB 218.6 kB/s eta 0:00:01\n",
      "     ------------- ----------------------- 71.7/191.7 kB 218.6 kB/s eta 0:00:01\n",
      "     ---------------------------------- - 184.3/191.7 kB 428.8 kB/s eta 0:00:01\n",
      "     ------------------------------------ 191.7/191.7 kB 415.3 kB/s eta 0:00:00\n",
      "Collecting rich>=13.1.0\n",
      "  Downloading https://pypi.tuna.tsinghua.edu.cn/packages/ea/93/c68645c689d10a035010e3ae314b6b2855d040ce0d11fdfdfbb8be416581/rich-13.4.1-py3-none-any.whl (239 kB)\n",
      "     ---------------------------------------- 0.0/239.4 kB ? eta -:--:--\n",
      "     ----- ---------------------------------- 30.7/239.4 kB ? eta -:--:--\n",
      "     --------- --------------------------- 61.4/239.4 kB 550.5 kB/s eta 0:00:01\n",
      "     --------- --------------------------- 61.4/239.4 kB 550.5 kB/s eta 0:00:01\n",
      "     --------- --------------------------- 61.4/239.4 kB 550.5 kB/s eta 0:00:01\n",
      "     --------- --------------------------- 61.4/239.4 kB 550.5 kB/s eta 0:00:01\n",
      "     --------- --------------------------- 61.4/239.4 kB 550.5 kB/s eta 0:00:01\n",
      "     --------- --------------------------- 61.4/239.4 kB 550.5 kB/s eta 0:00:01\n",
      "     --------- --------------------------- 61.4/239.4 kB 550.5 kB/s eta 0:00:01\n",
      "     --------- --------------------------- 61.4/239.4 kB 550.5 kB/s eta 0:00:01\n",
      "     ---------------- ------------------- 112.6/239.4 kB 226.0 kB/s eta 0:00:01\n",
      "     ---------------- ------------------- 112.6/239.4 kB 226.0 kB/s eta 0:00:01\n",
      "     ---------------- ------------------- 112.6/239.4 kB 226.0 kB/s eta 0:00:01\n",
      "     ---------------- ------------------- 112.6/239.4 kB 226.0 kB/s eta 0:00:01\n",
      "     ---------------- ------------------- 112.6/239.4 kB 226.0 kB/s eta 0:00:01\n",
      "     ---------------- ------------------- 112.6/239.4 kB 226.0 kB/s eta 0:00:01\n",
      "     -----------------------------------  235.5/239.4 kB 306.9 kB/s eta 0:00:01\n",
      "     ------------------------------------ 239.4/239.4 kB 299.6 kB/s eta 0:00:00\n",
      "Requirement already satisfied: numpy>=1.17.3 in d:\\software\\conda\\envs\\torch2\\lib\\site-packages (from docarray) (1.24.1)\n",
      "Requirement already satisfied: typing-inspect>=0.8.0 in d:\\software\\conda\\envs\\torch2\\lib\\site-packages (from docarray) (0.8.0)\n",
      "Collecting types-requests>=2.28.11.6\n",
      "  Downloading https://pypi.tuna.tsinghua.edu.cn/packages/c7/09/d89e773735e444828f8d5a4b11f8a940e314ae05c6ccedfc94e44861e97e/types_requests-2.31.0.1-py3-none-any.whl (14 kB)\n",
      "Requirement already satisfied: pydantic>=1.10.2 in d:\\software\\conda\\envs\\torch2\\lib\\site-packages (from docarray) (1.10.2)\n",
      "Requirement already satisfied: typing-extensions>=4.1.0 in d:\\software\\conda\\envs\\torch2\\lib\\site-packages (from pydantic>=1.10.2->docarray) (4.4.0)\n",
      "Collecting markdown-it-py<3.0.0,>=2.2.0\n",
      "  Using cached https://pypi.tuna.tsinghua.edu.cn/packages/bf/25/2d88e8feee8e055d015343f9b86e370a1ccbec546f2865c98397aaef24af/markdown_it_py-2.2.0-py3-none-any.whl (84 kB)\n",
      "Requirement already satisfied: pygments<3.0.0,>=2.13.0 in d:\\software\\conda\\envs\\torch2\\lib\\site-packages (from rich>=13.1.0->docarray) (2.14.0)\n",
      "Collecting types-urllib3\n",
      "  Downloading https://pypi.tuna.tsinghua.edu.cn/packages/08/6d/98b51f9776747e1e270919aa02298ce6a7d2d4d78a3349b47666deb61c4c/types_urllib3-1.26.25.13-py3-none-any.whl (15 kB)\n",
      "Requirement already satisfied: mypy-extensions>=0.3.0 in d:\\software\\conda\\envs\\torch2\\lib\\site-packages (from typing-inspect>=0.8.0->docarray) (1.0.0)\n",
      "Collecting mdurl~=0.1\n",
      "  Using cached https://pypi.tuna.tsinghua.edu.cn/packages/b3/38/89ba8ad64ae25be8de66a6d463314cf1eb366222074cfda9ee839c56a4b4/mdurl-0.1.2-py3-none-any.whl (10.0 kB)\n",
      "Installing collected packages: types-urllib3, types-requests, orjson, mdurl, markdown-it-py, rich, docarray\n",
      "Successfully installed docarray-0.33.0 markdown-it-py-2.2.0 mdurl-0.1.2 orjson-3.9.0 rich-13.4.1 types-requests-2.31.0.1 types-urllib3-1.26.25.13\n"
     ]
    }
   ],
   "source": [
    "!pip install python-dotenv docarray"
   ]
  },
  {
   "cell_type": "code",
   "execution_count": 4,
   "id": "af8c3c96",
   "metadata": {},
   "outputs": [
    {
     "data": {
      "text/plain": [
       "'\\n\\n人工智能是一种令人印象深刻的技术，它不仅能够利用机器学习和数据挖掘技术提供更先进的解决方案，而且可以模仿人类大脑的思考模式，从而让计算机变得更加智能。它的出现已经极大地提高了我们的生活质量，改善了我们的工作效率，并且给我们带来了许多新的机会。'"
      ]
     },
     "execution_count": 4,
     "metadata": {},
     "output_type": "execute_result"
    }
   ],
   "source": [
    "from langchain.llms import OpenAI\n",
    "\n",
    "llm = OpenAI(model_name=\"text-davinci-003\",max_tokens=1024)\n",
    "llm(\"怎么评价人工智能\")"
   ]
  },
  {
   "cell_type": "markdown",
   "id": "8cb7a7ec",
   "metadata": {
    "height": 30
   },
   "source": [
    "### 导入embedding模型和向量存储组件\n",
    "使用Dock Array内存搜索向量存储，作为一个内存向量存储，不需要连接外部数据库"
   ]
  },
  {
   "cell_type": "code",
   "execution_count": 2,
   "id": "974acf8e-8f88-42de-88f8-40a82cb58e8b",
   "metadata": {
    "height": 98
   },
   "outputs": [],
   "source": [
    "from langchain.chains import RetrievalQA #检索QA链，在文档上进行检索\n",
    "from langchain.chat_models import ChatOpenAI #openai模型\n",
    "from langchain.document_loaders import CSVLoader #文档加载器，采用csv格式存储\n",
    "from langchain.vectorstores import DocArrayInMemorySearch #向量存储\n",
    "from IPython.display import display, Markdown #在jupyter显示信息的工具"
   ]
  },
  {
   "cell_type": "code",
   "execution_count": 3,
   "id": "7249846e",
   "metadata": {
    "height": 75
   },
   "outputs": [],
   "source": [
    "#读取文件\n",
    "file = 'OutdoorClothingCatalog_1000.csv'\n",
    "loader = CSVLoader(file_path=file)"
   ]
  },
  {
   "cell_type": "code",
   "execution_count": 4,
   "id": "7724f00e",
   "metadata": {
    "height": 30
   },
   "outputs": [
    {
     "data": {
      "text/html": [
       "<div>\n",
       "<style scoped>\n",
       "    .dataframe tbody tr th:only-of-type {\n",
       "        vertical-align: middle;\n",
       "    }\n",
       "\n",
       "    .dataframe tbody tr th {\n",
       "        vertical-align: top;\n",
       "    }\n",
       "\n",
       "    .dataframe thead th {\n",
       "        text-align: right;\n",
       "    }\n",
       "</style>\n",
       "<table border=\"1\" class=\"dataframe\">\n",
       "  <thead>\n",
       "    <tr style=\"text-align: right;\">\n",
       "      <th></th>\n",
       "      <th>0</th>\n",
       "      <th>1</th>\n",
       "      <th>2</th>\n",
       "    </tr>\n",
       "  </thead>\n",
       "  <tbody>\n",
       "    <tr>\n",
       "      <th>0</th>\n",
       "      <td>NaN</td>\n",
       "      <td>name</td>\n",
       "      <td>description</td>\n",
       "    </tr>\n",
       "    <tr>\n",
       "      <th>1</th>\n",
       "      <td>0.0</td>\n",
       "      <td>Women's Campside Oxfords</td>\n",
       "      <td>This ultracomfortable lace-to-toe Oxford boast...</td>\n",
       "    </tr>\n",
       "    <tr>\n",
       "      <th>2</th>\n",
       "      <td>1.0</td>\n",
       "      <td>Recycled Waterhog Dog Mat, Chevron Weave</td>\n",
       "      <td>Protect your floors from spills and splashing ...</td>\n",
       "    </tr>\n",
       "    <tr>\n",
       "      <th>3</th>\n",
       "      <td>2.0</td>\n",
       "      <td>Infant and Toddler Girls' Coastal Chill Swimsu...</td>\n",
       "      <td>She'll love the bright colors, ruffles and exc...</td>\n",
       "    </tr>\n",
       "    <tr>\n",
       "      <th>4</th>\n",
       "      <td>3.0</td>\n",
       "      <td>Refresh Swimwear, V-Neck Tankini Contrasts</td>\n",
       "      <td>Whether you're going for a swim or heading out...</td>\n",
       "    </tr>\n",
       "    <tr>\n",
       "      <th>...</th>\n",
       "      <td>...</td>\n",
       "      <td>...</td>\n",
       "      <td>...</td>\n",
       "    </tr>\n",
       "    <tr>\n",
       "      <th>996</th>\n",
       "      <td>995.0</td>\n",
       "      <td>Men's  Classic Denim, Standard Fit</td>\n",
       "      <td>Crafted from premium denim that will last wash...</td>\n",
       "    </tr>\n",
       "    <tr>\n",
       "      <th>997</th>\n",
       "      <td>996.0</td>\n",
       "      <td>CozyPrint Sweater Fleece Pullover</td>\n",
       "      <td>The ultimate sweater fleece - made from superi...</td>\n",
       "    </tr>\n",
       "    <tr>\n",
       "      <th>998</th>\n",
       "      <td>997.0</td>\n",
       "      <td>Women's NRS Endurance Spray Paddling Pants</td>\n",
       "      <td>These comfortable and affordable splash paddli...</td>\n",
       "    </tr>\n",
       "    <tr>\n",
       "      <th>999</th>\n",
       "      <td>998.0</td>\n",
       "      <td>Women's Stop Flies Hoodie</td>\n",
       "      <td>This great-looking hoodie uses No Fly Zone Tec...</td>\n",
       "    </tr>\n",
       "    <tr>\n",
       "      <th>1000</th>\n",
       "      <td>999.0</td>\n",
       "      <td>Modern Utility Bag</td>\n",
       "      <td>This US-made crossbody bag is built with the s...</td>\n",
       "    </tr>\n",
       "  </tbody>\n",
       "</table>\n",
       "<p>1001 rows × 3 columns</p>\n",
       "</div>"
      ],
      "text/plain": [
       "          0                                                  1  \\\n",
       "0       NaN                                               name   \n",
       "1       0.0                           Women's Campside Oxfords   \n",
       "2       1.0           Recycled Waterhog Dog Mat, Chevron Weave   \n",
       "3       2.0  Infant and Toddler Girls' Coastal Chill Swimsu...   \n",
       "4       3.0         Refresh Swimwear, V-Neck Tankini Contrasts   \n",
       "...     ...                                                ...   \n",
       "996   995.0                 Men's  Classic Denim, Standard Fit   \n",
       "997   996.0                  CozyPrint Sweater Fleece Pullover   \n",
       "998   997.0         Women's NRS Endurance Spray Paddling Pants   \n",
       "999   998.0                          Women's Stop Flies Hoodie   \n",
       "1000  999.0                                 Modern Utility Bag   \n",
       "\n",
       "                                                      2  \n",
       "0                                           description  \n",
       "1     This ultracomfortable lace-to-toe Oxford boast...  \n",
       "2     Protect your floors from spills and splashing ...  \n",
       "3     She'll love the bright colors, ruffles and exc...  \n",
       "4     Whether you're going for a swim or heading out...  \n",
       "...                                                 ...  \n",
       "996   Crafted from premium denim that will last wash...  \n",
       "997   The ultimate sweater fleece - made from superi...  \n",
       "998   These comfortable and affordable splash paddli...  \n",
       "999   This great-looking hoodie uses No Fly Zone Tec...  \n",
       "1000  This US-made crossbody bag is built with the s...  \n",
       "\n",
       "[1001 rows x 3 columns]"
      ]
     },
     "execution_count": 4,
     "metadata": {},
     "output_type": "execute_result"
    }
   ],
   "source": [
    "#查看数据\n",
    "import pandas as pd\n",
    "data = pd.read_csv(file,header=None)\n",
    "data"
   ]
  },
  {
   "cell_type": "code",
   "execution_count": 5,
   "id": "b4267ad8",
   "metadata": {},
   "outputs": [
    {
     "data": {
      "text/html": [
       "<div>\n",
       "<style scoped>\n",
       "    .dataframe tbody tr th:only-of-type {\n",
       "        vertical-align: middle;\n",
       "    }\n",
       "\n",
       "    .dataframe tbody tr th {\n",
       "        vertical-align: top;\n",
       "    }\n",
       "\n",
       "    .dataframe thead th {\n",
       "        text-align: right;\n",
       "    }\n",
       "</style>\n",
       "<table border=\"1\" class=\"dataframe\">\n",
       "  <thead>\n",
       "    <tr style=\"text-align: right;\">\n",
       "      <th></th>\n",
       "      <th>0</th>\n",
       "      <th>1</th>\n",
       "      <th>2</th>\n",
       "    </tr>\n",
       "  </thead>\n",
       "  <tbody>\n",
       "    <tr>\n",
       "      <th>0</th>\n",
       "      <td>NaN</td>\n",
       "      <td>name</td>\n",
       "      <td>description</td>\n",
       "    </tr>\n",
       "    <tr>\n",
       "      <th>1</th>\n",
       "      <td>0.0</td>\n",
       "      <td>Women's Campside Oxfords</td>\n",
       "      <td>This ultracomfortable lace-to-toe Oxford boast...</td>\n",
       "    </tr>\n",
       "    <tr>\n",
       "      <th>2</th>\n",
       "      <td>1.0</td>\n",
       "      <td>Recycled Waterhog Dog Mat, Chevron Weave</td>\n",
       "      <td>Protect your floors from spills and splashing ...</td>\n",
       "    </tr>\n",
       "    <tr>\n",
       "      <th>3</th>\n",
       "      <td>2.0</td>\n",
       "      <td>Infant and Toddler Girls' Coastal Chill Swimsu...</td>\n",
       "      <td>She'll love the bright colors, ruffles and exc...</td>\n",
       "    </tr>\n",
       "    <tr>\n",
       "      <th>4</th>\n",
       "      <td>3.0</td>\n",
       "      <td>Refresh Swimwear, V-Neck Tankini Contrasts</td>\n",
       "      <td>Whether you're going for a swim or heading out...</td>\n",
       "    </tr>\n",
       "    <tr>\n",
       "      <th>5</th>\n",
       "      <td>4.0</td>\n",
       "      <td>EcoFlex 3L Storm Pants</td>\n",
       "      <td>Our new TEK O2 technology makes our four-seaso...</td>\n",
       "    </tr>\n",
       "    <tr>\n",
       "      <th>6</th>\n",
       "      <td>5.0</td>\n",
       "      <td>Smooth Comfort Check Shirt, Slightly Fitted</td>\n",
       "      <td>Our men's slightly fitted check shirt is the p...</td>\n",
       "    </tr>\n",
       "    <tr>\n",
       "      <th>7</th>\n",
       "      <td>6.0</td>\n",
       "      <td>Mens Outdoor Research Apex Gloves</td>\n",
       "      <td>These Outdoor Research Arete gloves are perfec...</td>\n",
       "    </tr>\n",
       "    <tr>\n",
       "      <th>8</th>\n",
       "      <td>7.0</td>\n",
       "      <td>Women's Ultraplush Sweats, Relaxed Crewneck</td>\n",
       "      <td>This crewneck sweatshirt is crafted from soft ...</td>\n",
       "    </tr>\n",
       "    <tr>\n",
       "      <th>9</th>\n",
       "      <td>8.0</td>\n",
       "      <td>Mountain Man Fleece Jacket</td>\n",
       "      <td>Our best-value fleece jacket is designed with ...</td>\n",
       "    </tr>\n",
       "  </tbody>\n",
       "</table>\n",
       "</div>"
      ],
      "text/plain": [
       "     0                                                  1  \\\n",
       "0  NaN                                               name   \n",
       "1  0.0                           Women's Campside Oxfords   \n",
       "2  1.0           Recycled Waterhog Dog Mat, Chevron Weave   \n",
       "3  2.0  Infant and Toddler Girls' Coastal Chill Swimsu...   \n",
       "4  3.0         Refresh Swimwear, V-Neck Tankini Contrasts   \n",
       "5  4.0                             EcoFlex 3L Storm Pants   \n",
       "6  5.0        Smooth Comfort Check Shirt, Slightly Fitted   \n",
       "7  6.0                  Mens Outdoor Research Apex Gloves   \n",
       "8  7.0        Women's Ultraplush Sweats, Relaxed Crewneck   \n",
       "9  8.0                         Mountain Man Fleece Jacket   \n",
       "\n",
       "                                                   2  \n",
       "0                                        description  \n",
       "1  This ultracomfortable lace-to-toe Oxford boast...  \n",
       "2  Protect your floors from spills and splashing ...  \n",
       "3  She'll love the bright colors, ruffles and exc...  \n",
       "4  Whether you're going for a swim or heading out...  \n",
       "5  Our new TEK O2 technology makes our four-seaso...  \n",
       "6  Our men's slightly fitted check shirt is the p...  \n",
       "7  These Outdoor Research Arete gloves are perfec...  \n",
       "8  This crewneck sweatshirt is crafted from soft ...  \n",
       "9  Our best-value fleece jacket is designed with ...  "
      ]
     },
     "execution_count": 5,
     "metadata": {},
     "output_type": "execute_result"
    }
   ],
   "source": [
    "data.head(10)"
   ]
  },
  {
   "cell_type": "markdown",
   "id": "3bd6422c",
   "metadata": {},
   "source": [
    "提供了一个户外服装的CSV文件，我们将使用它与语言模型结合使用"
   ]
  },
  {
   "cell_type": "markdown",
   "id": "2963fc63",
   "metadata": {},
   "source": [
    "#### 创建向量存储\n",
    "将导入一个索引，即向量存储索引创建器"
   ]
  },
  {
   "cell_type": "code",
   "execution_count": 6,
   "id": "5bfaba30",
   "metadata": {
    "height": 30
   },
   "outputs": [],
   "source": [
    "from langchain.indexes import VectorstoreIndexCreator #导入向量存储索引创建器"
   ]
  },
  {
   "cell_type": "code",
   "execution_count": 7,
   "id": "9e200726",
   "metadata": {
    "height": 64
   },
   "outputs": [],
   "source": [
    "'''\n",
    "将指定向量存储类,创建完成后，我们将从加载器中调用,通过文档记载器列表加载\n",
    "'''\n",
    "\n",
    "index = VectorstoreIndexCreator(\n",
    "    vectorstore_cls=DocArrayInMemorySearch\n",
    ").from_loaders([loader])"
   ]
  },
  {
   "cell_type": "code",
   "execution_count": 8,
   "id": "34562d81",
   "metadata": {
    "height": 47
   },
   "outputs": [],
   "source": [
    "query =\"Please list all your shirts with sun protection \\\n",
    "in a table in markdown and summarize each one.\""
   ]
  },
  {
   "cell_type": "code",
   "execution_count": 9,
   "id": "cfd0cc37",
   "metadata": {
    "height": 30
   },
   "outputs": [],
   "source": [
    "response = index.query(query)#使用索引查询创建一个响应，并传入这个查询"
   ]
  },
  {
   "cell_type": "code",
   "execution_count": 10,
   "id": "ae21f1ff",
   "metadata": {
    "height": 30,
    "scrolled": false
   },
   "outputs": [
    {
     "data": {
      "text/markdown": [
       "\n",
       "\n",
       "| Name | Description |\n",
       "| --- | --- |\n",
       "| Men's Tropical Plaid Short-Sleeve Shirt | UPF 50+ rated, 100% polyester, wrinkle-resistant, front and back cape venting, two front bellows pockets |\n",
       "| Men's Plaid Tropic Shirt, Short-Sleeve | UPF 50+ rated, 52% polyester and 48% nylon, machine washable and dryable, front and back cape venting, two front bellows pockets |\n",
       "| Men's TropicVibe Shirt, Short-Sleeve | UPF 50+ rated, 71% Nylon, 29% Polyester, 100% Polyester knit mesh, machine wash and dry, front and back cape venting, two front bellows pockets |\n",
       "| Sun Shield Shirt by | UPF 50+ rated, 78% nylon, 22% Lycra Xtra Life fiber, handwash, line dry, wicks moisture, fits comfortably over swimsuit, abrasion resistant |\n",
       "\n",
       "All four shirts provide UPF 50+ sun protection, blocking 98% of the sun's harmful rays. The Men's Tropical Plaid Short-Sleeve Shirt is made of 100% polyester and is wrinkle-resistant"
      ],
      "text/plain": [
       "<IPython.core.display.Markdown object>"
      ]
     },
     "metadata": {},
     "output_type": "display_data"
    }
   ],
   "source": [
    "display(Markdown(response))#查看查询返回的内容"
   ]
  },
  {
   "cell_type": "markdown",
   "id": "eb74cc79",
   "metadata": {},
   "source": [
    "得到了一个Markdown表格，其中包含所有带有防晒衣的衬衫的名称和描述，还得到了一个语言模型提供的不错的小总结"
   ]
  },
  {
   "cell_type": "markdown",
   "id": "dd34e50e",
   "metadata": {},
   "source": [
    "#### 使用语言模型与文档结合使用\n",
    "想要使用语言模型并将其与我们的许多文档结合使用，但是语言模型一次只能检查几千个单词，如果我们有非常大的文档，如何让语言模型回答关于其中所有内容的问题呢？通过embedding和向量存储实现\n",
    "* embedding   \n",
    "文本片段创建数值表示文本语义，相似内容的文本片段将具有相似的向量，这使我们可以在向量空间中比较文本片段\n",
    "* 向量数据库    \n",
    "向量数据库是存储我们在上一步中创建的这些向量表示的一种方式，我们创建这个向量数据库的方式是用来自传入文档的文本块填充它。\n",
    "当我们获得一个大的传入文档时，我们首先将其分成较小的块，因为我们可能无法将整个文档传递给语言模型，因此采用分块embedding的方式储存到向量数据库中。这就是创建索引的过程。\n",
    "\n",
    "注意： 这里的向量数据库大家可以了解一下腾松说的—zilliz-cloud\n",
    "\n",
    "通过运行时使用索引来查找与传入查询最相关的文本片段，然后我们将其与向量数据库中的所有向量进行比较，并选择最相似的n个，返回语言模型得到最终答案"
   ]
  },
  {
   "cell_type": "code",
   "execution_count": 11,
   "id": "631396c6",
   "metadata": {
    "height": 30
   },
   "outputs": [],
   "source": [
    "#创建一个文档加载器，通过csv格式加载\n",
    "loader = CSVLoader(file_path=file)\n",
    "docs = loader.load()"
   ]
  },
  {
   "cell_type": "code",
   "execution_count": 12,
   "id": "4a977f44",
   "metadata": {
    "height": 30
   },
   "outputs": [
    {
     "data": {
      "text/plain": [
       "Document(page_content=\": 0\\nname: Women's Campside Oxfords\\ndescription: This ultracomfortable lace-to-toe Oxford boasts a super-soft canvas, thick cushioning, and quality construction for a broken-in feel from the first time you put them on. \\n\\nSize & Fit: Order regular shoe size. For half sizes not offered, order up to next whole size. \\n\\nSpecs: Approx. weight: 1 lb.1 oz. per pair. \\n\\nConstruction: Soft canvas material for a broken-in feel and look. Comfortable EVA innersole with Cleansport NXT® antimicrobial odor control. Vintage hunt, fish and camping motif on innersole. Moderate arch contour of innersole. EVA foam midsole for cushioning and support. Chain-tread-inspired molded rubber outsole with modified chain-tread pattern. Imported. \\n\\nQuestions? Please contact us for any inquiries.\", metadata={'source': 'OutdoorClothingCatalog_1000.csv', 'row': 0})"
      ]
     },
     "execution_count": 12,
     "metadata": {},
     "output_type": "execute_result"
    }
   ],
   "source": [
    "docs[0]#查看单个文档，我们可以看到每个文档对应于CSV中的一个块"
   ]
  },
  {
   "cell_type": "code",
   "execution_count": 13,
   "id": "e875693a",
   "metadata": {
    "height": 47
   },
   "outputs": [],
   "source": [
    "'''\n",
    "因为这些文档已经非常小了，所以我们实际上不需要在这里进行任何分块,可以直接进行embedding\n",
    "'''\n",
    "\n",
    "from langchain.embeddings import OpenAIEmbeddings #要创建可以直接进行embedding，我们将使用OpenAI的可以直接进行embedding类\n",
    "embeddings = OpenAIEmbeddings() #初始化"
   ]
  },
  {
   "cell_type": "code",
   "execution_count": 14,
   "id": "779bec75",
   "metadata": {
    "height": 30
   },
   "outputs": [],
   "source": [
    "embed = embeddings.embed_query(\"Hi my name is Harrison\")#让我们使用embedding上的查询方法为特定文本创建embedding"
   ]
  },
  {
   "cell_type": "code",
   "execution_count": 15,
   "id": "699aaaf9",
   "metadata": {
    "height": 30
   },
   "outputs": [
    {
     "name": "stdout",
     "output_type": "stream",
     "text": [
      "1536\n"
     ]
    }
   ],
   "source": [
    "print(len(embed))#查看这个embedding，我们可以看到有超过一千个不同的元素"
   ]
  },
  {
   "cell_type": "code",
   "execution_count": 16,
   "id": "9d00d346",
   "metadata": {
    "height": 30
   },
   "outputs": [
    {
     "name": "stdout",
     "output_type": "stream",
     "text": [
      "[-0.021913960576057434, 0.006774206645786762, -0.018190348520874977, -0.039148248732089996, -0.014089343138039112]\n"
     ]
    }
   ],
   "source": [
    "print(embed[:5])#每个元素都是不同的数字值，组合起来，这就创建了这段文本的总体数值表示"
   ]
  },
  {
   "cell_type": "code",
   "execution_count": 17,
   "id": "27ad0bb0",
   "metadata": {
    "height": 81
   },
   "outputs": [],
   "source": [
    "'''\n",
    "为刚才的文本创建embedding，准备将它们存储在向量存储中，使用向量存储上的from documents方法来实现。\n",
    "该方法接受文档列表、嵌入对象，然后我们将创建一个总体向量存储\n",
    "'''\n",
    "db = DocArrayInMemorySearch.from_documents(\n",
    "    docs, \n",
    "    embeddings\n",
    ")"
   ]
  },
  {
   "cell_type": "code",
   "execution_count": 18,
   "id": "0329bfd5",
   "metadata": {
    "height": 30
   },
   "outputs": [],
   "source": [
    "query = \"Please suggest a shirt with sunblocking\""
   ]
  },
  {
   "cell_type": "code",
   "execution_count": 19,
   "id": "7909c6b7",
   "metadata": {
    "height": 30
   },
   "outputs": [],
   "source": [
    "docs = db.similarity_search(query)#使用这个向量存储来查找与传入查询类似的文本，如果我们在向量存储中使用相似性搜索方法并传入一个查询，我们将得到一个文档列表"
   ]
  },
  {
   "cell_type": "code",
   "execution_count": 20,
   "id": "43321853",
   "metadata": {
    "height": 30
   },
   "outputs": [
    {
     "data": {
      "text/plain": [
       "4"
      ]
     },
     "execution_count": 20,
     "metadata": {},
     "output_type": "execute_result"
    }
   ],
   "source": [
    "len(docs)# 我们可以看到它返回了四个文档"
   ]
  },
  {
   "cell_type": "code",
   "execution_count": 21,
   "id": "6eba90b5",
   "metadata": {
    "height": 30
   },
   "outputs": [
    {
     "data": {
      "text/plain": [
       "Document(page_content=': 255\\nname: Sun Shield Shirt by\\ndescription: \"Block the sun, not the fun – our high-performance sun shirt is guaranteed to protect from harmful UV rays. \\n\\nSize & Fit: Slightly Fitted: Softly shapes the body. Falls at hip.\\n\\nFabric & Care: 78% nylon, 22% Lycra Xtra Life fiber. UPF 50+ rated – the highest rated sun protection possible. Handwash, line dry.\\n\\nAdditional Features: Wicks moisture for quick-drying comfort. Fits comfortably over your favorite swimsuit. Abrasion resistant for season after season of wear. Imported.\\n\\nSun Protection That Won\\'t Wear Off\\nOur high-performance fabric provides SPF 50+ sun protection, blocking 98% of the sun\\'s harmful rays. This fabric is recommended by The Skin Cancer Foundation as an effective UV protectant.', metadata={'source': 'OutdoorClothingCatalog_1000.csv', 'row': 255})"
      ]
     },
     "execution_count": 21,
     "metadata": {},
     "output_type": "execute_result"
    }
   ],
   "source": [
    "docs[0] #，如果我们看第一个文档，我们可以看到它确实是一件关于防晒的衬衫"
   ]
  },
  {
   "cell_type": "markdown",
   "id": "fe41b36f",
   "metadata": {},
   "source": [
    "### 如何回答我们文档的相关问题\n",
    "首先，我们需要从这个向量存储中创建一个检索器，检索器是一个通用接口，可以由任何接受查询并返回文档的方法支持。接下来，因为我们想要进行文本生成并返回自然语言响应\n"
   ]
  },
  {
   "cell_type": "code",
   "execution_count": 22,
   "id": "c0c3596e",
   "metadata": {
    "height": 30
   },
   "outputs": [],
   "source": [
    "retriever = db.as_retriever() #创建检索器通用接口"
   ]
  },
  {
   "cell_type": "code",
   "execution_count": 23,
   "id": "0625f5e8",
   "metadata": {
    "height": 47
   },
   "outputs": [],
   "source": [
    "llm = ChatOpenAI(temperature = 0.0,max_tokens=1024) #导入语言模型\n"
   ]
  },
  {
   "cell_type": "code",
   "execution_count": 24,
   "id": "a573f58a",
   "metadata": {
    "height": 47
   },
   "outputs": [],
   "source": [
    "qdocs = \"\".join([docs[i].page_content for i in range(len(docs))])  # 将合并文档中的所有页面内容到一个变量中\n"
   ]
  },
  {
   "cell_type": "code",
   "execution_count": 25,
   "id": "7ed2e39e",
   "metadata": {},
   "outputs": [
    {
     "data": {
      "text/plain": [
       "': 255\\nname: Sun Shield Shirt by\\ndescription: \"Block the sun, not the fun – our high-performance sun shirt is guaranteed to protect from harmful UV rays. \\n\\nSize & Fit: Slightly Fitted: Softly shapes the body. Falls at hip.\\n\\nFabric & Care: 78% nylon, 22% Lycra Xtra Life fiber. UPF 50+ rated – the highest rated sun protection possible. Handwash, line dry.\\n\\nAdditional Features: Wicks moisture for quick-drying comfort. Fits comfortably over your favorite swimsuit. Abrasion resistant for season after season of wear. Imported.\\n\\nSun Protection That Won\\'t Wear Off\\nOur high-performance fabric provides SPF 50+ sun protection, blocking 98% of the sun\\'s harmful rays. This fabric is recommended by The Skin Cancer Foundation as an effective UV protectant.: 374\\nname: Men\\'s Plaid Tropic Shirt, Short-Sleeve\\ndescription: Our Ultracomfortable sun protection is rated to UPF 50+, helping you stay cool and dry. Originally designed for fishing, this lightest hot-weather shirt offers UPF 50+ coverage and is great for extended travel. SunSmart technology blocks 98% of the sun\\'s harmful UV rays, while the high-performance fabric is wrinkle-free and quickly evaporates perspiration. Made with 52% polyester and 48% nylon, this shirt is machine washable and dryable. Additional features include front and back cape venting, two front bellows pockets and an imported design. With UPF 50+ coverage, you can limit sun exposure and feel secure with the highest rated sun protection available.: 535\\nname: Men\\'s TropicVibe Shirt, Short-Sleeve\\ndescription: This Men’s sun-protection shirt with built-in UPF 50+ has the lightweight feel you want and the coverage you need when the air is hot and the UV rays are strong. Size & Fit: Traditional Fit: Relaxed through the chest, sleeve and waist. Fabric & Care: Shell: 71% Nylon, 29% Polyester. Lining: 100% Polyester knit mesh. UPF 50+ rated – the highest rated sun protection possible. Machine wash and dry. Additional Features: Wrinkle resistant. Front and back cape venting lets in cool breezes. Two front bellows pockets. Imported.\\n\\nSun Protection That Won\\'t Wear Off: Our high-performance fabric provides SPF 50+ sun protection, blocking 98% of the sun\\'s harmful rays.: 618\\nname: Men\\'s Tropical Plaid Short-Sleeve Shirt\\ndescription: Our lightest hot-weather shirt is rated UPF 50+ for superior protection from the sun\\'s UV rays. With a traditional fit that is relaxed through the chest, sleeve, and waist, this fabric is made of 100% polyester and is wrinkle-resistant. With front and back cape venting that lets in cool breezes and two front bellows pockets, this shirt is imported and provides the highest rated sun protection possible. \\n\\nSun Protection That Won\\'t Wear Off. Our high-performance fabric provides SPF 50+ sun protection, blocking 98% of the sun\\'s harmful rays.'"
      ]
     },
     "execution_count": 25,
     "metadata": {},
     "output_type": "execute_result"
    }
   ],
   "source": [
    "qdocs"
   ]
  },
  {
   "cell_type": "code",
   "execution_count": 26,
   "id": "14682d95",
   "metadata": {
    "height": 64
   },
   "outputs": [],
   "source": [
    "response = llm.call_as_llm(f\"{qdocs} Question: Please list all your \\\n",
    "shirts with sun protection in a table in markdown and summarize each one,using chinese.\") #列出所有具有防晒功能的衬衫并在Markdown表格中总结每个衬衫的语言模型\n"
   ]
  },
  {
   "cell_type": "code",
   "execution_count": 27,
   "id": "8bba545b",
   "metadata": {
    "height": 30
   },
   "outputs": [
    {
     "data": {
      "text/markdown": [
       "| 名称 | 描述 | \n",
       "| --- | --- | \n",
       "| 太阳防护衬衫 | 高性能太阳衬衫，保证防护有害紫外线。材质为78%尼龙和22%莱卡Xtra Life纤维，UPF50+评级，手洗，晾干。吸湿快干，适合穿在泳衣上。耐磨损，可持续多季穿着。 | \n",
       "| 男士格子热带衬衫 | 轻便舒适的太阳防护衬衫，UPF50+评级，防晒效果高达98%。材质为52%聚酯纤维和48%尼龙，可机洗。前后背部有通风口，两个前口袋。 | \n",
       "| 男士夏日短袖太阳防护衬衫 | 内置UPF50+，轻盈舒适，适合炎热天气和强烈紫外线。材质为71%尼龙和29%聚酯纤维，内衬为100%聚酯纤维网眼。可机洗。防皱，前后背部有通风口，两个前口袋。 | \n",
       "| 男士热带格子短袖衬衫 | 最轻便的夏季衬衫，UPF50+评级，防晒效果高达98%。材质为100%聚酯纤维，防皱。前后背部有通风口，两个前口袋。 | \n",
       "\n",
       "总结：以上四款衬衫均为太阳防护衣物，UPF50+评级，防晒效果高达98%。材质轻便舒适，适合炎热天气和强烈紫外线。其中有些衬衫有防皱和通风口等特点。"
      ],
      "text/plain": [
       "<IPython.core.display.Markdown object>"
      ]
     },
     "metadata": {},
     "output_type": "display_data"
    }
   ],
   "source": [
    "display(Markdown(response))"
   ]
  },
  {
   "cell_type": "markdown",
   "id": "12f042e7",
   "metadata": {},
   "source": [
    "在此处打印响应，我们可以看到我们得到了一个表格，正如我们所要求的那样"
   ]
  },
  {
   "cell_type": "code",
   "execution_count": 32,
   "id": "32c94d22",
   "metadata": {
    "height": 115
   },
   "outputs": [],
   "source": [
    "''' \n",
    "通过LangChain链封装起来\n",
    "创建一个检索QA链，对检索到的文档进行问题回答，要创建这样的链，我们将传入几个不同的东西\n",
    "1、语言模型，在最后进行文本生成\n",
    "2、传入链类型，这里使用stuff，将所有文档塞入上下文并对语言模型进行一次调用\n",
    "3、传入一个检索器\n",
    "'''\n",
    "\n",
    "\n",
    "qa_stuff = RetrievalQA.from_chain_type(\n",
    "    llm=llm, \n",
    "    chain_type=\"stuff\", \n",
    "    retriever=retriever, \n",
    "    verbose=True\n",
    ")"
   ]
  },
  {
   "cell_type": "code",
   "execution_count": 33,
   "id": "e4769316",
   "metadata": {
    "height": 47
   },
   "outputs": [],
   "source": [
    "query =  \"Please list all your shirts with sun protection in a table \\\n",
    "in markdown and summarize each one.\"#创建一个查询并在此查询上运行链"
   ]
  },
  {
   "cell_type": "code",
   "execution_count": 34,
   "id": "1fc3c2f3",
   "metadata": {
    "height": 30
   },
   "outputs": [
    {
     "name": "stdout",
     "output_type": "stream",
     "text": [
      "\n",
      "\n",
      "\u001b[1m> Entering new RetrievalQA chain...\u001b[0m\n",
      "\n",
      "\u001b[1m> Finished chain.\u001b[0m\n"
     ]
    }
   ],
   "source": [
    "response = qa_stuff.run(query)"
   ]
  },
  {
   "cell_type": "code",
   "execution_count": 35,
   "id": "fba1a5db",
   "metadata": {
    "height": 30
   },
   "outputs": [
    {
     "data": {
      "text/markdown": [
       "| Shirt Name | Description |\n",
       "| --- | --- |\n",
       "| Men's Tropical Plaid Short-Sleeve Shirt | Rated UPF 50+ for superior protection from the sun's UV rays. Made of 100% polyester and is wrinkle-resistant. With front and back cape venting that lets in cool breezes and two front bellows pockets. Provides the highest rated sun protection possible. |\n",
       "| Men's Plaid Tropic Shirt, Short-Sleeve | Rated to UPF 50+, helping you stay cool and dry. Made with 52% polyester and 48% nylon, this shirt is machine washable and dryable. Additional features include front and back cape venting, two front bellows pockets and an imported design. With UPF 50+ coverage, you can limit sun exposure and feel secure with the highest rated sun protection available. |\n",
       "| Men's TropicVibe Shirt, Short-Sleeve | Built-in UPF 50+ has the lightweight feel you want and the coverage you need when the air is hot and the UV rays are strong. Made with Shell: 71% Nylon, 29% Polyester. Lining: 100% Polyester knit mesh. Wrinkle resistant. Front and back cape venting lets in cool breezes. Two front bellows pockets. Imported. |\n",
       "| Sun Shield Shirt | High-performance sun shirt is guaranteed to protect from harmful UV rays. Made with 78% nylon, 22% Lycra Xtra Life fiber. Fits comfortably over your favorite swimsuit. Abrasion resistant for season after season of wear. |\n",
       "\n",
       "All of the shirts listed have sun protection with a UPF rating of 50+ and block 98% of the sun's harmful rays. The Men's Tropical Plaid Short-Sleeve Shirt is made of 100% polyester and has front and back cape venting and two front bellows pockets. The Men's Plaid Tropic Shirt, Short-Sleeve is made with 52% polyester and 48% nylon and has front and back cape venting and two front bellows pockets. The Men's TropicVibe Shirt, Short-Sleeve is made with Shell: 71% Nylon, 29% Polyester. Lining: 100% Polyester knit mesh and has front and back cape venting and two front bellows pockets. The Sun Shield Shirt is made with 78% nylon, 22% Lycra Xtra Life fiber and fits comfortably over your favorite swimsuit."
      ],
      "text/plain": [
       "<IPython.core.display.Markdown object>"
      ]
     },
     "metadata": {},
     "output_type": "display_data"
    }
   ],
   "source": [
    "display(Markdown(response))#使用 display 和 markdown 显示它"
   ]
  },
  {
   "cell_type": "markdown",
   "id": "e28c5657",
   "metadata": {},
   "source": [
    "这两个方式返回相同的结果"
   ]
  },
  {
   "cell_type": "markdown",
   "id": "44f1fa38",
   "metadata": {},
   "source": [
    "#### 不同类型的chain链\n",
    "想在许多不同类型的块上执行相同类型的问答，该怎么办？之前的实验中只返回了4个文档，如果有多个文档，那么我们可以使用几种不同的方法\n",
    "* Map Reduce   \n",
    "将所有块与问题一起传递给语言模型，获取回复，使用另一个语言模型调用将所有单独的回复总结成最终答案，它可以在任意数量的文档上运行。可以并行处理单个问题，同时也需要更多的调用。它将所有文档视为独立的\n",
    "* Refine    \n",
    "用于循环许多文档，际上是迭代的，建立在先前文档的答案之上，非常适合前后因果信息并随时间逐步构建答案，依赖于先前调用的结果。它通常需要更长的时间，并且基本上需要与Map Reduce一样多的调用\n",
    "* Map Re-rank   \n",
    "对每个文档进行单个语言模型调用，要求它返回一个分数，选择最高分，这依赖于语言模型知道分数应该是什么，需要告诉它，如果它与文档相关，则应该是高分，并在那里精细调整说明，可以批量处理它们相对较快，但是更加昂贵\n",
    "* Stuff    \n",
    "将所有内容组合成一个文档"
   ]
  },
  {
   "cell_type": "markdown",
   "id": "7988f412",
   "metadata": {},
   "source": []
  }
 ],
 "metadata": {
  "kernelspec": {
   "display_name": "Python 3 (ipykernel)",
   "language": "python",
   "name": "python3"
  },
  "language_info": {
   "codemirror_mode": {
    "name": "ipython",
    "version": 3
   },
   "file_extension": ".py",
   "mimetype": "text/x-python",
   "name": "python",
   "nbconvert_exporter": "python",
   "pygments_lexer": "ipython3",
   "version": "3.10.9"
  }
 },
 "nbformat": 4,
 "nbformat_minor": 5
}
